{
 "cells": [
  {
   "cell_type": "markdown",
   "metadata": {},
   "source": [
    "Imports"
   ]
  },
  {
   "cell_type": "code",
   "execution_count": null,
   "metadata": {},
   "outputs": [],
   "source": [
    "import numpy as np\n",
    "import matplotlib.pyplot as plt\n",
    "from sklearn.cluster import KMeans\n",
    "from sklearn.metrics import accuracy_score, recall_score, f1_score, confusion_matrix, precision_score\n",
    "from sklearn.metrics import classification_report\n",
    "from sklearn.model_selection import train_test_split\n",
    "from sklearn.neighbors import KNeighborsClassifier\n",
    "from sklearn.ensemble import RandomForestClassifier\n",
    "from sklearn.inspection import permutation_importance\n",
    "from sklearn.decomposition import PCA\n",
    "from sklearn.preprocessing import StandardScaler\n",
    "from sklearn.model_selection import GridSearchCV\n",
    "from sklearn.model_selection import KFold\n",
    "from sklearn.svm import SVC\n",
    "from scipy import stats\n",
    "from scipy.stats import t\n",
    "import pandas as pd\n",
    "import random\n",
    "import math\n",
    "from solution import solution\n",
    "from WOA import WOA\n",
    "from GWO import GWO\n",
    "from FFA import FFA"
   ]
  },
  {
   "cell_type": "markdown",
   "metadata": {},
   "source": [
    "Leitura do Dataset"
   ]
  },
  {
   "cell_type": "code",
   "execution_count": 2,
   "metadata": {},
   "outputs": [
    {
     "data": {
      "text/html": [
       "<div>\n",
       "<style scoped>\n",
       "    .dataframe tbody tr th:only-of-type {\n",
       "        vertical-align: middle;\n",
       "    }\n",
       "\n",
       "    .dataframe tbody tr th {\n",
       "        vertical-align: top;\n",
       "    }\n",
       "\n",
       "    .dataframe thead th {\n",
       "        text-align: right;\n",
       "    }\n",
       "</style>\n",
       "<table border=\"1\" class=\"dataframe\">\n",
       "  <thead>\n",
       "    <tr style=\"text-align: right;\">\n",
       "      <th></th>\n",
       "      <th>Timestamp</th>\n",
       "      <th>ID</th>\n",
       "      <th>DLC</th>\n",
       "      <th>Class</th>\n",
       "    </tr>\n",
       "  </thead>\n",
       "  <tbody>\n",
       "    <tr>\n",
       "      <th>378444</th>\n",
       "      <td>1.000000</td>\n",
       "      <td>0.328285</td>\n",
       "      <td>1.000</td>\n",
       "      <td>0</td>\n",
       "    </tr>\n",
       "    <tr>\n",
       "      <th>742520</th>\n",
       "      <td>0.999999</td>\n",
       "      <td>0.531021</td>\n",
       "      <td>1.000</td>\n",
       "      <td>0</td>\n",
       "    </tr>\n",
       "    <tr>\n",
       "      <th>596794</th>\n",
       "      <td>0.999999</td>\n",
       "      <td>0.274548</td>\n",
       "      <td>1.000</td>\n",
       "      <td>0</td>\n",
       "    </tr>\n",
       "    <tr>\n",
       "      <th>427360</th>\n",
       "      <td>1.000000</td>\n",
       "      <td>0.194919</td>\n",
       "      <td>1.000</td>\n",
       "      <td>0</td>\n",
       "    </tr>\n",
       "    <tr>\n",
       "      <th>212329</th>\n",
       "      <td>1.000000</td>\n",
       "      <td>0.395213</td>\n",
       "      <td>1.000</td>\n",
       "      <td>0</td>\n",
       "    </tr>\n",
       "    <tr>\n",
       "      <th>368063</th>\n",
       "      <td>1.000000</td>\n",
       "      <td>0.148999</td>\n",
       "      <td>1.000</td>\n",
       "      <td>0</td>\n",
       "    </tr>\n",
       "    <tr>\n",
       "      <th>4735</th>\n",
       "      <td>0.999999</td>\n",
       "      <td>0.412311</td>\n",
       "      <td>1.000</td>\n",
       "      <td>0</td>\n",
       "    </tr>\n",
       "    <tr>\n",
       "      <th>798781</th>\n",
       "      <td>0.999999</td>\n",
       "      <td>0.586224</td>\n",
       "      <td>1.000</td>\n",
       "      <td>0</td>\n",
       "    </tr>\n",
       "    <tr>\n",
       "      <th>714680</th>\n",
       "      <td>0.999999</td>\n",
       "      <td>0.194919</td>\n",
       "      <td>1.000</td>\n",
       "      <td>0</td>\n",
       "    </tr>\n",
       "    <tr>\n",
       "      <th>270200</th>\n",
       "      <td>1.000000</td>\n",
       "      <td>0.297020</td>\n",
       "      <td>1.000</td>\n",
       "      <td>0</td>\n",
       "    </tr>\n",
       "    <tr>\n",
       "      <th>709365</th>\n",
       "      <td>1.000000</td>\n",
       "      <td>0.000977</td>\n",
       "      <td>1.000</td>\n",
       "      <td>0</td>\n",
       "    </tr>\n",
       "    <tr>\n",
       "      <th>337497</th>\n",
       "      <td>0.999999</td>\n",
       "      <td>0.203713</td>\n",
       "      <td>0.875</td>\n",
       "      <td>0</td>\n",
       "    </tr>\n",
       "    <tr>\n",
       "      <th>435445</th>\n",
       "      <td>0.999999</td>\n",
       "      <td>0.586712</td>\n",
       "      <td>1.000</td>\n",
       "      <td>0</td>\n",
       "    </tr>\n",
       "    <tr>\n",
       "      <th>97526</th>\n",
       "      <td>0.999999</td>\n",
       "      <td>0.194919</td>\n",
       "      <td>1.000</td>\n",
       "      <td>0</td>\n",
       "    </tr>\n",
       "    <tr>\n",
       "      <th>208773</th>\n",
       "      <td>1.000000</td>\n",
       "      <td>0.265755</td>\n",
       "      <td>1.000</td>\n",
       "      <td>0</td>\n",
       "    </tr>\n",
       "    <tr>\n",
       "      <th>118895</th>\n",
       "      <td>0.999999</td>\n",
       "      <td>0.336102</td>\n",
       "      <td>0.625</td>\n",
       "      <td>0</td>\n",
       "    </tr>\n",
       "    <tr>\n",
       "      <th>813287</th>\n",
       "      <td>0.999999</td>\n",
       "      <td>0.586712</td>\n",
       "      <td>1.000</td>\n",
       "      <td>0</td>\n",
       "    </tr>\n",
       "    <tr>\n",
       "      <th>392177</th>\n",
       "      <td>1.000000</td>\n",
       "      <td>0.531510</td>\n",
       "      <td>1.000</td>\n",
       "      <td>0</td>\n",
       "    </tr>\n",
       "    <tr>\n",
       "      <th>18775</th>\n",
       "      <td>0.999999</td>\n",
       "      <td>0.150953</td>\n",
       "      <td>1.000</td>\n",
       "      <td>0</td>\n",
       "    </tr>\n",
       "    <tr>\n",
       "      <th>282943</th>\n",
       "      <td>1.000000</td>\n",
       "      <td>0.000000</td>\n",
       "      <td>1.000</td>\n",
       "      <td>1</td>\n",
       "    </tr>\n",
       "    <tr>\n",
       "      <th>243820</th>\n",
       "      <td>1.000000</td>\n",
       "      <td>0.385931</td>\n",
       "      <td>1.000</td>\n",
       "      <td>0</td>\n",
       "    </tr>\n",
       "    <tr>\n",
       "      <th>555006</th>\n",
       "      <td>0.999999</td>\n",
       "      <td>0.385931</td>\n",
       "      <td>1.000</td>\n",
       "      <td>0</td>\n",
       "    </tr>\n",
       "    <tr>\n",
       "      <th>619021</th>\n",
       "      <td>0.999999</td>\n",
       "      <td>0.206155</td>\n",
       "      <td>0.500</td>\n",
       "      <td>0</td>\n",
       "    </tr>\n",
       "    <tr>\n",
       "      <th>611351</th>\n",
       "      <td>0.999999</td>\n",
       "      <td>0.098192</td>\n",
       "      <td>1.000</td>\n",
       "      <td>0</td>\n",
       "    </tr>\n",
       "    <tr>\n",
       "      <th>641577</th>\n",
       "      <td>1.000000</td>\n",
       "      <td>0.148510</td>\n",
       "      <td>1.000</td>\n",
       "      <td>0</td>\n",
       "    </tr>\n",
       "  </tbody>\n",
       "</table>\n",
       "</div>"
      ],
      "text/plain": [
       "        Timestamp        ID    DLC  Class\n",
       "378444   1.000000  0.328285  1.000      0\n",
       "742520   0.999999  0.531021  1.000      0\n",
       "596794   0.999999  0.274548  1.000      0\n",
       "427360   1.000000  0.194919  1.000      0\n",
       "212329   1.000000  0.395213  1.000      0\n",
       "368063   1.000000  0.148999  1.000      0\n",
       "4735     0.999999  0.412311  1.000      0\n",
       "798781   0.999999  0.586224  1.000      0\n",
       "714680   0.999999  0.194919  1.000      0\n",
       "270200   1.000000  0.297020  1.000      0\n",
       "709365   1.000000  0.000977  1.000      0\n",
       "337497   0.999999  0.203713  0.875      0\n",
       "435445   0.999999  0.586712  1.000      0\n",
       "97526    0.999999  0.194919  1.000      0\n",
       "208773   1.000000  0.265755  1.000      0\n",
       "118895   0.999999  0.336102  0.625      0\n",
       "813287   0.999999  0.586712  1.000      0\n",
       "392177   1.000000  0.531510  1.000      0\n",
       "18775    0.999999  0.150953  1.000      0\n",
       "282943   1.000000  0.000000  1.000      1\n",
       "243820   1.000000  0.385931  1.000      0\n",
       "555006   0.999999  0.385931  1.000      0\n",
       "619021   0.999999  0.206155  0.500      0\n",
       "611351   0.999999  0.098192  1.000      0\n",
       "641577   1.000000  0.148510  1.000      0"
      ]
     },
     "execution_count": 2,
     "metadata": {},
     "output_type": "execute_result"
    }
   ],
   "source": [
    "data = pd.read_csv('data\\File1_normalizado.csv', usecols=['Timestamp', 'ID', 'DLC', 'Class'])\n",
    "data.sample(25)"
   ]
  },
  {
   "cell_type": "markdown",
   "metadata": {},
   "source": [
    "Média e Desvio Padrão das classes"
   ]
  },
  {
   "cell_type": "code",
   "execution_count": 16,
   "metadata": {},
   "outputs": [
    {
     "name": "stdout",
     "output_type": "stream",
     "text": [
      "Média:\n",
      "        Timestamp        ID       DLC\n",
      "Class                               \n",
      "0       0.999999  0.318024  0.945941\n",
      "1       0.999999  0.224677  0.999973\n",
      "\n",
      "Desvio Padrão:\n",
      "           Timestamp        ID       DLC\n",
      "Class                                  \n",
      "0      4.499180e-07  0.182073  0.149894\n",
      "1      4.540657e-07  0.289993  0.003155\n"
     ]
    }
   ],
   "source": [
    "grouped = data.groupby('Class')\n",
    "\n",
    "mean = grouped[['Timestamp', 'ID', 'DLC']].mean()\n",
    "std = grouped[['Timestamp', 'ID', 'DLC']].std()\n",
    "\n",
    "print(\"Média:\\n\", mean)\n",
    "print(\"\\nDesvio Padrão:\\n\", std)"
   ]
  },
  {
   "cell_type": "markdown",
   "metadata": {},
   "source": [
    "Teste T-Student"
   ]
  },
  {
   "cell_type": "code",
   "execution_count": 40,
   "metadata": {},
   "outputs": [
    {
     "name": "stdout",
     "output_type": "stream",
     "text": [
      "Estatística t: -306.66562923827814\n",
      "Graus de liberdade: 730792.3978848093\n",
      "T crítico: 2.5758360312593997\n",
      "P-valor: 0.0\n",
      "Rejeitamos a hipótese nula: As médias são significativamente diferentes.\n"
     ]
    }
   ],
   "source": [
    "m1, s1 = 0.945941, 0.149894\n",
    "m2, s2 = 0.999973, 0.003155\n",
    "\n",
    "n1, n2 = 726118, 98882\n",
    "\n",
    "alpha = 0.01\n",
    "\n",
    "t_stat = (m1 - m2) / ((s1**2/n1 + s2**2/n2)**0.5)\n",
    "df = ((s1**2/n1 + s2**2/n2)**2) / (((s1**2/n1)**2/(n1-1)) + ((s2**2/n2)**2/(n2-1)))\n",
    "p_value = 2 * (1 - stats.t.cdf(np.abs(t_stat), df))\n",
    "t_critical = t.ppf(1 - alpha/2, df)\n",
    "\n",
    "print(f\"Estatística t: {t_stat}\")\n",
    "print(f\"Graus de liberdade: {df}\")\n",
    "print(f\"T crítico: {t_critical}\")\n",
    "print(f\"P-valor: {p_value}\")\n",
    "\n",
    "if np.abs(t_stat) > t_critical:\n",
    "    print('Rejeitamos a hipótese nula: As médias são significativamente diferentes.')\n",
    "else:\n",
    "    print('Não rejeitamos a hipótese nula: As médias não são significativamente diferentes.')"
   ]
  },
  {
   "cell_type": "markdown",
   "metadata": {},
   "source": [
    "Classificadores"
   ]
  },
  {
   "cell_type": "markdown",
   "metadata": {},
   "source": [
    "KNN"
   ]
  },
  {
   "cell_type": "code",
   "execution_count": null,
   "metadata": {},
   "outputs": [],
   "source": [
    "e1 = abs((1 * data['Timestamp']) + (1 * data['ID']) + (0 * data['DLC']))\n",
    "X = pd.DataFrame(e1)\n",
    "y = data[\"Class\"]\n",
    "\n",
    "knn = RandomForestClassifier(n_estimators=100)\n",
    "\n",
    "# Divida a classe negativa em 7 folds\n",
    "knn = KNeighborsClassifier(n_neighbors=3954656)\n",
    "\n",
    "# Inicialize listas para armazenar as métricas de performance\n",
    "accuracy_scores = []\n",
    "precision_scores = []\n",
    "recall_scores = []\n",
    "f1_scores = []\n",
    "\n",
    "# Realize o K-Fold Superior\n",
    "for train_index_neg, test_index_neg in knn_superior.split(X):\n",
    "    X_train_neg, X_test_neg = X.values[train_index_neg], X.values[test_index_neg]\n",
    "    y_train_neg, y_test_neg = y.values[train_index_neg], y.values[test_index_neg]\n",
    "    \n",
    "    # Combine cada fold da classe negativa com todas as amostras da classe positiva\n",
    "    X_train = np.vstack((X_train_neg, X[y == 1]))\n",
    "    y_train = np.concatenate((y_train_neg, y[y == 1]))\n",
    "    \n",
    "    # Realize o K-Fold Interno\n",
    "    cv_interno = KFold(n_splits=5)\n",
    "    for train_index, test_index in cv_interno.split(X_train):\n",
    "        X_train_fold, X_test_fold = X_train[train_index], X_train[test_index]\n",
    "        y_train_fold, y_test_fold = y_train[train_index], y_train[test_index]\n",
    "        \n",
    "        knn.fit(X_train_fold.reshape(-1, 1), y_train_fold)\n",
    "        y_pred = knn.predict(X_test_fold.reshape(-1, 1))\n",
    "        \n",
    "        accuracy_scores.append(accuracy_score(y_test_fold, y_pred))\n",
    "        precision_scores.append(precision_score(y_test_fold, y_pred))\n",
    "        recall_scores.append(recall_score(y_test_fold, y_pred))\n",
    "        f1_scores.append(f1_score(y_test_fold, y_pred))\n",
    "\n",
    "# Calcule as médias internas das métricas para cada agrupamento\n",
    "media_acuracia = np.mean(accuracy_scores)\n",
    "media_precisao = np.mean(precision_scores)\n",
    "media_recall = np.mean(recall_scores)\n",
    "media_f1 = np.mean(f1_scores)\n",
    "\n",
    "print(f'Acurácia: {media_acuracia:.4f}')\n",
    "print(f'Precisão: {media_precisao:.4f}')\n",
    "print(f'Recall: {media_recall:.4f}')\n",
    "print(f'F1-Score: {media_f1:.4f}')"
   ]
  },
  {
   "cell_type": "markdown",
   "metadata": {},
   "source": [
    "RandomForest"
   ]
  },
  {
   "cell_type": "code",
   "execution_count": 14,
   "metadata": {},
   "outputs": [
    {
     "name": "stderr",
     "output_type": "stream",
     "text": [
      "c:\\Users\\vinic\\anaconda3\\lib\\site-packages\\sklearn\\metrics\\_classification.py:1245: UndefinedMetricWarning: Precision is ill-defined and being set to 0.0 due to no predicted samples. Use `zero_division` parameter to control this behavior.\n",
      "  _warn_prf(average, modifier, msg_start, len(result))\n",
      "c:\\Users\\vinic\\anaconda3\\lib\\site-packages\\sklearn\\metrics\\_classification.py:1245: UndefinedMetricWarning: Precision is ill-defined and being set to 0.0 due to no predicted samples. Use `zero_division` parameter to control this behavior.\n",
      "  _warn_prf(average, modifier, msg_start, len(result))\n"
     ]
    },
    {
     "name": "stdout",
     "output_type": "stream",
     "text": [
      "Acurácia: 0.955895\n",
      "Precisão: 0.893924\n",
      "Recall: 0.824912\n",
      "F1-Score: 0.844985\n"
     ]
    }
   ],
   "source": [
    "e1 = abs((0.1 * data['Timestamp']) + (0.5 * data['ID']) + (0.4 * data['DLC']))\n",
    "X = pd.DataFrame(e1)\n",
    "y = data[\"Class\"]\n",
    "\n",
    "rf = RandomForestClassifier(n_estimators=1, n_jobs=-1, random_state=42)\n",
    "\n",
    "# Divida a classe negativa em 7 folds\n",
    "kf_superior = KFold(n_splits=7)\n",
    "\n",
    "# Inicialize listas para armazenar as métricas de performance\n",
    "accuracy_scores = []\n",
    "precision_scores = []\n",
    "recall_scores = []\n",
    "f1_scores = []\n",
    "\n",
    "# Realize o K-Fold Superior\n",
    "for train_index_neg, test_index_neg in kf_superior.split(X):\n",
    "    X_train_neg, X_test_neg = X.values[train_index_neg], X.values[test_index_neg]\n",
    "    y_train_neg, y_test_neg = y.values[train_index_neg], y.values[test_index_neg]\n",
    "    \n",
    "    # Combine cada fold da classe negativa com todas as amostras da classe positiva\n",
    "    X_train = np.vstack((X_train_neg, X[y == 1]))\n",
    "    y_train = np.concatenate((y_train_neg, y[y == 1]))\n",
    "    \n",
    "    # Realize o K-Fold Interno\n",
    "    cv_interno = KFold(n_splits=5)\n",
    "    for train_index, test_index in cv_interno.split(X_train):\n",
    "        X_train_fold, X_test_fold = X_train[train_index], X_train[test_index]\n",
    "        y_train_fold, y_test_fold = y_train[train_index], y_train[test_index]\n",
    "        \n",
    "        rf.fit(X_train_fold.reshape(-1, 1), y_train_fold)\n",
    "        y_pred = rf.predict(X_test_fold.reshape(-1, 1))\n",
    "        \n",
    "        accuracy_scores.append(accuracy_score(y_test_fold, y_pred))\n",
    "        precision_scores.append(precision_score(y_test_fold, y_pred))\n",
    "        recall_scores.append(recall_score(y_test_fold, y_pred))\n",
    "        f1_scores.append(f1_score(y_test_fold, y_pred))\n",
    "\n",
    "# Calcule as médias internas das métricas para cada agrupamento\n",
    "media_acuracia = np.mean(accuracy_scores)\n",
    "media_precisao = np.mean(precision_scores)\n",
    "media_recall = np.mean(recall_scores)\n",
    "media_f1 = np.mean(f1_scores)\n",
    "\n",
    "print(f'Acurácia: {media_acuracia:.6f}')\n",
    "print(f'Precisão: {media_precisao:.6f}')\n",
    "print(f'Recall: {media_recall:.6f}')\n",
    "print(f'F1-Score: {media_f1:.6f}')"
   ]
  },
  {
   "cell_type": "markdown",
   "metadata": {},
   "source": [
    "Maximização da Acurácia via algoritmos Bio-Inspirados"
   ]
  },
  {
   "cell_type": "markdown",
   "metadata": {},
   "source": [
    "Whale Optimization Algorithm (WOA)"
   ]
  },
  {
   "cell_type": "code",
   "execution_count": null,
   "metadata": {},
   "outputs": [],
   "source": [
    "def custom_function(x):\n",
    "    e1 = abs((x[0] * data['Timestamp']) + (x[1] * data['ID']) + (x[2] * data['DLC']))\n",
    "    X = pd.DataFrame(e1)\n",
    "    y = data[\"Class\"]\n",
    "    rf = RandomForestClassifier(n_estimators=1, n_jobs=-1, random_state=42)\n",
    "    kf_superior = KFold(n_splits=7)\n",
    "    accuracy_scores = []\n",
    "\n",
    "    for train_index_neg, test_index_neg in kf_superior.split(X):\n",
    "        X_train_neg, X_test_neg = X.values[train_index_neg], X.values[test_index_neg]\n",
    "        y_train_neg, y_test_neg = y.values[train_index_neg], y.values[test_index_neg]\n",
    "        X_train = np.vstack((X_train_neg, X[y == 1]))\n",
    "        y_train = np.concatenate((y_train_neg, y[y == 1]))\n",
    "        cv_interno = KFold(n_splits=5)\n",
    "        for train_index, test_index in cv_interno.split(X_train):\n",
    "            X_train_fold, X_test_fold = X_train[train_index], X_train[test_index]\n",
    "            y_train_fold, y_test_fold = y_train[train_index], y_train[test_index]\n",
    "            rf.fit(X_train_fold.reshape(-1, 1), y_train_fold)\n",
    "            y_pred = rf.predict(X_test_fold.reshape(-1, 1))\n",
    "            accuracy_scores.append(accuracy_score(y_test_fold, y_pred))\n",
    "    media_acuracia = np.mean(accuracy_scores)\n",
    "    return(media_acuracia)\n",
    "\n",
    "lb = 0.0\n",
    "ub = 1.0\n",
    "dim = 3\n",
    "SearchAgents_no = 50\n",
    "Max_iter = 10\n",
    "\n",
    "result = WOA(custom_function, lb, ub, dim, SearchAgents_no, Max_iter)\n",
    "\n",
    "print(\"Melhor valor encontrado:\", result.best)\n",
    "print(\"Melhor solução encontrada:\", result.bestIndividual)"
   ]
  },
  {
   "cell_type": "markdown",
   "metadata": {},
   "source": [
    "Grey Wolf Optimizer (GWO)"
   ]
  },
  {
   "cell_type": "code",
   "execution_count": 4,
   "metadata": {},
   "outputs": [
    {
     "name": "stdout",
     "output_type": "stream",
     "text": [
      "GWO is optimizing  \"custom_function\"\n",
      "['At iteration 0 the best fitness is 0.9307740160978816']\n",
      "['Best solution is [0.2 0.3 0.5]']\n",
      "['At iteration 1 the best fitness is 0.9318576407836915']\n",
      "['Best solution is [0.2 0.3 0.5]']\n",
      "['At iteration 2 the best fitness is 0.9559029777537655']\n",
      "['Best solution is [0.2 0.2 0.6]']\n",
      "['At iteration 3 the best fitness is 0.9559029777537655']\n",
      "['Best solution is [0.2 0.2 0.6]']\n",
      "['At iteration 4 the best fitness is 0.9559029777537655']\n",
      "['Best solution is [0.2 0.2 0.6]']\n"
     ]
    }
   ],
   "source": [
    "def custom_function(x):\n",
    "    e1 = abs((x[0] * data['Timestamp']) + (x[1] * data['ID']) + (x[2] * data['DLC']))\n",
    "    X = pd.DataFrame(e1)\n",
    "    y = data[\"Class\"]\n",
    "    rf = RandomForestClassifier(n_estimators=1, n_jobs=-1, random_state=42)\n",
    "    kf_superior = KFold(n_splits=7)\n",
    "    accuracy_scores = []\n",
    "\n",
    "    for train_index_neg, test_index_neg in kf_superior.split(X):\n",
    "        X_train_neg, X_test_neg = X.values[train_index_neg], X.values[test_index_neg]\n",
    "        y_train_neg, y_test_neg = y.values[train_index_neg], y.values[test_index_neg]\n",
    "        X_train = np.vstack((X_train_neg, X[y == 1]))\n",
    "        y_train = np.concatenate((y_train_neg, y[y == 1]))\n",
    "        cv_interno = KFold(n_splits=5)\n",
    "        for train_index, test_index in cv_interno.split(X_train):\n",
    "            X_train_fold, X_test_fold = X_train[train_index], X_train[test_index]\n",
    "            y_train_fold, y_test_fold = y_train[train_index], y_train[test_index]\n",
    "            rf.fit(X_train_fold.reshape(-1, 1), y_train_fold)\n",
    "            y_pred = rf.predict(X_test_fold.reshape(-1, 1))\n",
    "            accuracy_scores.append(accuracy_score(y_test_fold, y_pred))\n",
    "    media_acuracia = np.mean(accuracy_scores)\n",
    "    return(media_acuracia)\n",
    "\n",
    "lb = 0.0\n",
    "ub = 1.0\n",
    "dim = 3\n",
    "SearchAgents_no = 10\n",
    "Max_iter = 100\n",
    "\n",
    "result = GWO(custom_function, lb, ub, dim, SearchAgents_no, Max_iter)\n",
    "\n",
    "print(\"Melhor valor encontrado:\", result.best)\n",
    "print(\"Melhor solução encontrada:\", result.bestIndividual)"
   ]
  },
  {
   "cell_type": "markdown",
   "metadata": {},
   "source": [
    "Firefly Algorithm (FA)"
   ]
  },
  {
   "cell_type": "code",
   "execution_count": null,
   "metadata": {},
   "outputs": [],
   "source": [
    "def custom_function(x):\n",
    "    e1 = abs((x[0] * data['Timestamp']) + (x[1] * data['ID']) + (x[2] * data['DLC']))\n",
    "    X = pd.DataFrame(e1)\n",
    "    y = data[\"Class\"]\n",
    "    rf = RandomForestClassifier(n_estimators=1, n_jobs=-1, random_state=42)\n",
    "    kf_superior = KFold(n_splits=7)\n",
    "    accuracy_scores = []\n",
    "\n",
    "    for train_index_neg, test_index_neg in kf_superior.split(X):\n",
    "        X_train_neg, X_test_neg = X.values[train_index_neg], X.values[test_index_neg]\n",
    "        y_train_neg, y_test_neg = y.values[train_index_neg], y.values[test_index_neg]\n",
    "        X_train = np.vstack((X_train_neg, X[y == 1]))\n",
    "        y_train = np.concatenate((y_train_neg, y[y == 1]))\n",
    "        cv_interno = KFold(n_splits=5)\n",
    "        for train_index, test_index in cv_interno.split(X_train):\n",
    "            X_train_fold, X_test_fold = X_train[train_index], X_train[test_index]\n",
    "            y_train_fold, y_test_fold = y_train[train_index], y_train[test_index]\n",
    "            rf.fit(X_train_fold.reshape(-1, 1), y_train_fold)\n",
    "            y_pred = rf.predict(X_test_fold.reshape(-1, 1))\n",
    "            accuracy_scores.append(accuracy_score(y_test_fold, y_pred))\n",
    "    media_acuracia = np.mean(accuracy_scores)\n",
    "    return(media_acuracia)\n",
    "\n",
    "lb = 0.0\n",
    "ub = 1.0\n",
    "dim = 3\n",
    "SearchAgents_no = 10\n",
    "Max_iter = 100\n",
    "\n",
    "result = FFA(custom_function, lb, ub, dim, SearchAgents_no, Max_iter)\n",
    "\n",
    "print(\"Melhor valor encontrado:\", result.best)\n",
    "print(\"Melhor solução encontrada:\", result.bestIndividual)"
   ]
  },
  {
   "cell_type": "markdown",
   "metadata": {},
   "source": [
    "Feature Importance"
   ]
  },
  {
   "cell_type": "code",
   "execution_count": null,
   "metadata": {},
   "outputs": [
    {
     "name": "stdout",
     "output_type": "stream",
     "text": [
      "ID           0.970705\n",
      "DLC          0.020483\n",
      "Timestamp    0.008812\n",
      "dtype: float64\n"
     ]
    },
    {
     "data": {
      "image/png": "[encoded data removed]",
      "text/plain": [
       "<Figure size 432x288 with 1 Axes>"
      ]
     },
     "metadata": {
      "needs_background": "light"
     },
     "output_type": "display_data"
    }
   ],
   "source": [
    "X = data[['Timestamp', 'ID', 'DLC']]\n",
    "y = data[\"Class\"]\n",
    "\n",
    "X_train, X_test, y_train, y_test = train_test_split(X, y, test_size=0.2, random_state=42)\n",
    "\n",
    "rf = RandomForestClassifier(n_estimators=100)\n",
    "rf.fit(X_train, y_train)\n",
    "\n",
    "y_pred = rf.predict(X_test)\n",
    "\n",
    "feature_names = X.columns\n",
    "importances = rf.feature_importances_\n",
    "feature_importances = pd.Series(importances, index=feature_names)\n",
    "feature_importances = feature_importances.sort_values(ascending=False)\n",
    "\n",
    "print(feature_importances)\n",
    "\n",
    "plt.bar(feature_importances.index, feature_importances.values)\n",
    "plt.title(\"Feature Importance Using Impurity\")\n",
    "plt.xlabel(\"Features\")\n",
    "plt.ylabel(\"Importance\")\n",
    "plt.show()"
   ]
  },
  {
   "cell_type": "code",
   "execution_count": 3,
   "metadata": {},
   "outputs": [
    {
     "name": "stdout",
     "output_type": "stream",
     "text": [
      "ID           0.170423\n",
      "Timestamp    0.031527\n",
      "DLC          0.020955\n",
      "dtype: float64\n"
     ]
    },
    {
     "data": {
      "image/png": "[encoded data removed]",
      "text/plain": [
       "<Figure size 432x288 with 1 Axes>"
      ]
     },
     "metadata": {
      "needs_background": "light"
     },
     "output_type": "display_data"
    }
   ],
   "source": [
    "X = data[['Timestamp', 'ID', 'DLC']]\n",
    "y = data[\"Class\"]\n",
    "\n",
    "X_train, X_test, y_train, y_test = train_test_split(X, y, test_size=0.2, random_state=42)\n",
    "\n",
    "rf = RandomForestClassifier(n_estimators=100)\n",
    "rf.fit(X_train, y_train)\n",
    "\n",
    "y_pred = rf.predict(X_test)\n",
    "\n",
    "feature_names = X.columns\n",
    "result = permutation_importance(rf, X_test, y_test, n_repeats=10, random_state=42)\n",
    "importances = result.importances_mean\n",
    "feature_importances = pd.Series(importances, index=feature_names)\n",
    "feature_importances = feature_importances.sort_values(ascending=False)\n",
    "\n",
    "print(feature_importances)\n",
    "\n",
    "plt.bar(feature_importances.index, feature_importances.values)\n",
    "plt.title(\"Feature Importance Using Permutation\")\n",
    "plt.xlabel(\"Features\")\n",
    "plt.ylabel(\"Importance\")\n",
    "plt.show()"
   ]
  },
  {
   "cell_type": "markdown",
   "metadata": {},
   "source": [
    "PCA"
   ]
  },
  {
   "cell_type": "code",
   "execution_count": 8,
   "metadata": {},
   "outputs": [
    {
     "data": {
      "image/png": "[encoded data removed]",
      "text/plain": [
       "<Figure size 576x432 with 1 Axes>"
      ]
     },
     "metadata": {
      "needs_background": "light"
     },
     "output_type": "display_data"
    },
    {
     "name": "stdout",
     "output_type": "stream",
     "text": [
      "Variance Ratio:\n",
      "[0.3952798  0.32681123 0.27790897]\n"
     ]
    },
    {
     "data": {
      "image/png": "[encoded data removed]",
      "text/plain": [
       "<Figure size 576x432 with 2 Axes>"
      ]
     },
     "metadata": {
      "needs_background": "light"
     },
     "output_type": "display_data"
    },
    {
     "name": "stdout",
     "output_type": "stream",
     "text": [
      "Components:\n",
      "[[-0.68662113 -0.4351482  -0.58240662]\n",
      " [-0.04291282  0.82395373 -0.56502986]\n",
      " [ 0.72574784 -0.36296873 -0.58441747]]\n"
     ]
    }
   ],
   "source": [
    "X = data[['Timestamp', 'ID', 'DLC']]\n",
    "\n",
    "scaler = StandardScaler()\n",
    "X_scaled = scaler.fit_transform(X)\n",
    "\n",
    "pca = PCA(n_components=3)\n",
    "pca.fit(X_scaled)\n",
    "\n",
    "plt.figure(figsize=(8, 6))\n",
    "plt.bar(range(3), pca.explained_variance_ratio_, alpha=0.5, align='center')\n",
    "plt.ylabel('Variance ratio')\n",
    "plt.xlabel('Principal components')\n",
    "plt.title('Variance Ratio of PCA Components')\n",
    "plt.show()\n",
    "\n",
    "print(\"Variance Ratio:\")\n",
    "print(pca.explained_variance_ratio_)\n",
    "\n",
    "plt.figure(figsize=(8, 6))\n",
    "plt.imshow(pca.components_, cmap='viridis', aspect='auto')\n",
    "plt.yticks(range(3), ['First PC', 'Second PC', 'Third PC'])\n",
    "plt.colorbar(orientation='horizontal')\n",
    "plt.tight_layout()\n",
    "plt.title('PCA Components')\n",
    "plt.show()\n",
    "\n",
    "print(\"Components:\")\n",
    "print(pca.components_)\n"
   ]
  },
  {
   "cell_type": "markdown",
   "metadata": {},
   "source": [
    "MÉDIA"
   ]
  },
  {
   "cell_type": "code",
   "execution_count": 11,
   "metadata": {},
   "outputs": [
    {
     "name": "stdout",
     "output_type": "stream",
     "text": [
      "Média de Free Attack: 0.5692\n",
      "Média de Attack: 0.5348\n"
     ]
    }
   ],
   "source": [
    "# Carregando os dados\n",
    "data = pd.read_csv('data\\File1_normalizado.csv')\n",
    "\n",
    "# Calculando e1\n",
    "e1 = abs((0 * data['Timestamp']) + (0.6 * data['ID']) + (0.4 * data['DLC']))\n",
    "\n",
    "# Criando um DataFrame com e1\n",
    "X = pd.DataFrame(e1, columns=['e1'])\n",
    "y = data[\"Class\"]\n",
    "\n",
    "# Criando um novo DataFrame combinando X e y\n",
    "new_data = pd.concat([X, y], axis=1)\n",
    "\n",
    "# Separando as amostras onde Class é igual a 0\n",
    "amostras_class_0 = new_data[new_data['Class'] == 0]\n",
    "\n",
    "# Separando as amostras onde Class é igual a 1\n",
    "amostras_class_1 = new_data[new_data['Class'] == 1]\n",
    "\n",
    "# Calculando a média de e1 para cada classe\n",
    "media_e1_class_0 = amostras_class_0['e1'].mean()\n",
    "media_e1_class_1 = amostras_class_1['e1'].mean()\n",
    "\n",
    "# Imprimindo os resultados\n",
    "print(f\"Média de Free Attack: {media_e1_class_0:.4f}\")\n",
    "print(f\"Média de Attack: {media_e1_class_1:.4f}\")\n"
   ]
  },
  {
   "cell_type": "markdown",
   "metadata": {},
   "source": [
    "TimeStamp |\n",
    "Estatística t: 0.0 |\n",
    "Graus de liberdade: 127324.20301551816 |\n",
    "T crítico: 2.5758679184930418 |\n",
    "P-valor: 1.0 |\n",
    "Não rejeitamos a hipótese nula: As médias não são significativamente diferentes. |\n",
    "\n",
    "ID |\n",
    "Estatística t: 98.60904583451335 |\n",
    "Graus de liberdade: 109739.07967038374 |\n",
    "T crítico: 2.5758679184930418 |\n",
    "P-valor: 0.0 |\n",
    "Rejeitamos a hipótese nula: As médias são significativamente diferentes. |\n",
    "\n",
    "DLC |\n",
    "Estatística t: -306.66562923827814 |\n",
    "Graus de liberdade: 730792.3978848093 |\n",
    "T crítico: 2.5758360312593997 |\n",
    "P-valor: 0.0 |\n",
    "Rejeitamos a hipótese nula: As médias são significativamente diferentes. |\n"
   ]
  }
 ],
 "metadata": {
  "kernelspec": {
   "display_name": "Python 3",
   "language": "python",
   "name": "python3"
  },
  "language_info": {
   "codemirror_mode": {
    "name": "ipython",
    "version": 3
   },
   "file_extension": ".py",
   "mimetype": "text/x-python",
   "name": "python",
   "nbconvert_exporter": "python",
   "pygments_lexer": "ipython3",
   "version": "3.12.10"
  }
 },
 "nbformat": 4,
 "nbformat_minor": 2
}
